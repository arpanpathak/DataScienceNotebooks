{
 "cells": [
  {
   "cell_type": "markdown",
   "id": "4e97e3f3",
   "metadata": {},
   "source": [
    "# Gauss Elimination Method"
   ]
  },
  {
   "cell_type": "code",
   "execution_count": 14,
   "id": "64819d64",
   "metadata": {},
   "outputs": [
    {
     "name": "stdout",
     "output_type": "stream",
     "text": [
      "[[  1.   2.   3.  10.]\n",
      " [  2.   6. 102.   4.]\n",
      " [  4.  -8.   4.   8.]]\n",
      "[[  1.   2.   3.  10.]\n",
      " [  0.   2.  96. -16.]\n",
      " [  4.  -8.   4.   8.]]\n",
      "[[  1.   2.   3.  10.]\n",
      " [  0.   1.  48.  -8.]\n",
      " [  0. -16.  -8. -32.]]\n",
      "Solution: [ 6.42105263  2.10526316 -0.21052632]\n"
     ]
    }
   ],
   "source": [
    "import numpy as np\n",
    "\n",
    "def gauss_elimination(A, b):\n",
    "    # Combine A and b into an augmented matrix\n",
    "    n = len(b)\n",
    "    augmented_matrix = np.hstack([A, b.reshape(-1, 1)])\n",
    "    \n",
    "    if (np.linalg.det(A) == 0):\n",
    "        raise Exception(\"System of linear equation is singluar and not solvable\")\n",
    "\n",
    "    # Forward Elimination\n",
    "    for i in range(n):\n",
    "        # Make the diagonal contain all 1s\n",
    "        augmented_matrix[i] = augmented_matrix[i] / augmented_matrix[i][i]\n",
    "        \n",
    "        # Make the elements below the pivot elements 0\n",
    "        for j in range(i+1, n):\n",
    "            factor = augmented_matrix[j][i]\n",
    "            print(augmented_matrix)\n",
    "            augmented_matrix[j] = augmented_matrix[j] - factor * augmented_matrix[i]\n",
    "\n",
    "    # Back Substitution\n",
    "    x = np.zeros(n)\n",
    "    for i in range(n-1, -1, -1):\n",
    "        x[i] = augmented_matrix[i][-1] - np.dot(augmented_matrix[i][i+1:n], x[i+1:n])\n",
    "\n",
    "    return x\n",
    "\n",
    "# Example Usage\n",
    "A = np.array([[1, 2, 3], \n",
    "              [2, 6, 102], \n",
    "              [4, -8, 4]], dtype=float)\n",
    "b = np.array([10, 4, 8], dtype=float)\n",
    "\n",
    "solution = gauss_elimination(A, b)\n",
    "print(\"Solution:\", solution)\n"
   ]
  },
  {
   "cell_type": "code",
   "execution_count": 5,
   "id": "46e8608b",
   "metadata": {},
   "outputs": [
    {
     "name": "stdout",
     "output_type": "stream",
     "text": [
      "Solution: [3. 1. 2.]\n"
     ]
    }
   ],
   "source": []
  }
 ],
 "metadata": {
  "kernelspec": {
   "display_name": "Python 3 (ipykernel)",
   "language": "python",
   "name": "python3"
  },
  "language_info": {
   "codemirror_mode": {
    "name": "ipython",
    "version": 3
   },
   "file_extension": ".py",
   "mimetype": "text/x-python",
   "name": "python",
   "nbconvert_exporter": "python",
   "pygments_lexer": "ipython3",
   "version": "3.9.2"
  }
 },
 "nbformat": 4,
 "nbformat_minor": 5
}
